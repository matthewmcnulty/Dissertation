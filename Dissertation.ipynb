{
  "nbformat": 4,
  "nbformat_minor": 0,
  "metadata": {
    "colab": {
      "name": "Dissertation.ipynb",
      "provenance": [],
      "collapsed_sections": [],
      "authorship_tag": "ABX9TyMUZ8NyG5LfvaqdnVxY90Ow",
      "include_colab_link": true
    },
    "kernelspec": {
      "name": "python3",
      "display_name": "Python 3"
    },
    "accelerator": "GPU"
  },
  "cells": [
    {
      "cell_type": "markdown",
      "metadata": {
        "id": "view-in-github",
        "colab_type": "text"
      },
      "source": [
        "<a href=\"https://colab.research.google.com/github/matthewmcnulty/Dissertation/blob/master/Dissertation.ipynb\" target=\"_parent\"><img src=\"https://colab.research.google.com/assets/colab-badge.svg\" alt=\"Open In Colab\"/></a>"
      ]
    },
    {
      "cell_type": "markdown",
      "metadata": {
        "id": "JByTmTnFNToa",
        "colab_type": "text"
      },
      "source": [
        "Edit -> Notebook settings -> Runtime type = Python 3, Hardware accelerator = GPU\n",
        "\n"
      ]
    },
    {
      "cell_type": "code",
      "metadata": {
        "id": "igKzA96ONkXG",
        "colab_type": "code",
        "outputId": "2d6bfb8a-f786-42d5-bc5c-88bc213807b1",
        "colab": {
          "base_uri": "https://localhost:8080/",
          "height": 54
        }
      },
      "source": [
        "from google.colab import drive\n",
        "drive.mount('/content/gdrive')"
      ],
      "execution_count": 1,
      "outputs": [
        {
          "output_type": "stream",
          "text": [
            "Drive already mounted at /content/gdrive; to attempt to forcibly remount, call drive.mount(\"/content/gdrive\", force_remount=True).\n"
          ],
          "name": "stdout"
        }
      ]
    },
    {
      "cell_type": "code",
      "metadata": {
        "id": "W8kB7l8kgdIh",
        "colab_type": "code",
        "colab": {}
      },
      "source": [
        "#%cd gdrive/My Drive/Colab Notebooks/Dissertation\n",
        "#%cd ..\n",
        "#!git clone https://github.com/matterport/Mask_RCNN.git"
      ],
      "execution_count": 0,
      "outputs": []
    },
    {
      "cell_type": "code",
      "metadata": {
        "id": "tf6PdDa9gN4P",
        "colab_type": "code",
        "colab": {}
      },
      "source": [
        "#%cd Mask_RCNN\n",
        "#%cd ..\n",
        "#!git clone https://github.com/philferriere/cocoapi.git"
      ],
      "execution_count": 0,
      "outputs": []
    },
    {
      "cell_type": "code",
      "metadata": {
        "id": "rAFAEWz5gGuB",
        "colab_type": "code",
        "colab": {}
      },
      "source": [
        "#!pwd"
      ],
      "execution_count": 0,
      "outputs": []
    },
    {
      "cell_type": "code",
      "metadata": {
        "id": "87FT2ia1TfL4",
        "colab_type": "code",
        "colab": {}
      },
      "source": [
        "#!pip install -r requirements.txt"
      ],
      "execution_count": 0,
      "outputs": []
    },
    {
      "cell_type": "code",
      "metadata": {
        "id": "E0YZHXD1e31_",
        "colab_type": "code",
        "colab": {}
      },
      "source": [
        "#%cd cocoapi\n",
        "#%cd PythonAPI"
      ],
      "execution_count": 0,
      "outputs": []
    },
    {
      "cell_type": "code",
      "metadata": {
        "id": "IM5b9QcFiqXI",
        "colab_type": "code",
        "colab": {}
      },
      "source": [
        "#!python setup.py build_ext install"
      ],
      "execution_count": 0,
      "outputs": []
    },
    {
      "cell_type": "code",
      "metadata": {
        "id": "r67sKos0jvu-",
        "colab_type": "code",
        "colab": {}
      },
      "source": [
        "#!pip install cython"
      ],
      "execution_count": 0,
      "outputs": []
    },
    {
      "cell_type": "code",
      "metadata": {
        "id": "g7-OZOzLjzy7",
        "colab_type": "code",
        "colab": {}
      },
      "source": [
        "#!nvcc --version"
      ],
      "execution_count": 0,
      "outputs": []
    },
    {
      "cell_type": "code",
      "metadata": {
        "id": "L3jvF7fxmhTM",
        "colab_type": "code",
        "colab": {}
      },
      "source": [
        "import tensorflow as tf"
      ],
      "execution_count": 0,
      "outputs": []
    },
    {
      "cell_type": "code",
      "metadata": {
        "id": "Z--VIfkqmlX8",
        "colab_type": "code",
        "colab": {
          "base_uri": "https://localhost:8080/",
          "height": 34
        },
        "outputId": "9ee4ee45-b714-4d13-d7df-c7e41e529620"
      },
      "source": [
        "print(tf.__version__)"
      ],
      "execution_count": 11,
      "outputs": [
        {
          "output_type": "stream",
          "text": [
            "2.1.0\n"
          ],
          "name": "stdout"
        }
      ]
    },
    {
      "cell_type": "markdown",
      "metadata": {
        "id": "MHnDSzNbmudP",
        "colab_type": "text"
      },
      "source": [
        "GO BACK AND FIX TENSORFLOW"
      ]
    }
  ]
}